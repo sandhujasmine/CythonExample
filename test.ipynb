{
 "cells": [
  {
   "cell_type": "code",
   "execution_count": 2,
   "metadata": {
    "collapsed": false
   },
   "outputs": [
    {
     "data": {
      "text/html": [
       "\n",
       "    <div class=\"bk-banner\">\n",
       "        <a href=\"http://bokeh.pydata.org\" target=\"_blank\" class=\"bk-logo bk-logo-small bk-logo-notebook\"></a>\n",
       "        <span id=\"52929698-007b-4949-bc02-97aae89cb260\">Loading BokehJS ...</span>\n",
       "    </div>"
      ]
     },
     "metadata": {},
     "output_type": "display_data"
    },
    {
     "data": {
      "application/javascript": [
       "\n",
       "(function(global) {\n",
       "  function now() {\n",
       "    return new Date();\n",
       "  }\n",
       "\n",
       "  if (typeof (window._bokeh_onload_callbacks) === \"undefined\") {\n",
       "    window._bokeh_onload_callbacks = [];\n",
       "  }\n",
       "\n",
       "  function run_callbacks() {\n",
       "    window._bokeh_onload_callbacks.forEach(function(callback) { callback() });\n",
       "    delete window._bokeh_onload_callbacks\n",
       "    console.info(\"Bokeh: all callbacks have finished\");\n",
       "  }\n",
       "\n",
       "  function load_libs(js_urls, callback) {\n",
       "    window._bokeh_onload_callbacks.push(callback);\n",
       "    if (window._bokeh_is_loading > 0) {\n",
       "      console.log(\"Bokeh: BokehJS is being loaded, scheduling callback at\", now());\n",
       "      return null;\n",
       "    }\n",
       "    if (js_urls == null || js_urls.length === 0) {\n",
       "      run_callbacks();\n",
       "      return null;\n",
       "    }\n",
       "    console.log(\"Bokeh: BokehJS not loaded, scheduling load and callback at\", now());\n",
       "    window._bokeh_is_loading = js_urls.length;\n",
       "    for (var i = 0; i < js_urls.length; i++) {\n",
       "      var url = js_urls[i];\n",
       "      var s = document.createElement('script');\n",
       "      s.src = url;\n",
       "      s.async = false;\n",
       "      s.onreadystatechange = s.onload = function() {\n",
       "        window._bokeh_is_loading--;\n",
       "        if (window._bokeh_is_loading === 0) {\n",
       "          console.log(\"Bokeh: all BokehJS libraries loaded\");\n",
       "          run_callbacks()\n",
       "        }\n",
       "      };\n",
       "      s.onerror = function() {\n",
       "        console.warn(\"failed to load library \" + url);\n",
       "      };\n",
       "      console.log(\"Bokeh: injecting script tag for BokehJS library: \", url);\n",
       "      document.getElementsByTagName(\"head\")[0].appendChild(s);\n",
       "    }\n",
       "  };\n",
       "\n",
       "  var js_urls = ['https://cdn.pydata.org/bokeh/release/bokeh-0.11.1.min.js', 'https://cdn.pydata.org/bokeh/release/bokeh-widgets-0.11.1.min.js', 'https://cdn.pydata.org/bokeh/release/bokeh-compiler-0.11.1.min.js'];\n",
       "\n",
       "  var inline_js = [\n",
       "    function(Bokeh) {\n",
       "      Bokeh.set_log_level(\"info\");\n",
       "    },\n",
       "    \n",
       "    function(Bokeh) {\n",
       "      Bokeh.$(\"#52929698-007b-4949-bc02-97aae89cb260\").text(\"BokehJS successfully loaded\");\n",
       "    },\n",
       "    function(Bokeh) {\n",
       "      console.log(\"Bokeh: injecting CSS: https://cdn.pydata.org/bokeh/release/bokeh-0.11.1.min.css\");\n",
       "      Bokeh.embed.inject_css(\"https://cdn.pydata.org/bokeh/release/bokeh-0.11.1.min.css\");\n",
       "      console.log(\"Bokeh: injecting CSS: https://cdn.pydata.org/bokeh/release/bokeh-widgets-0.11.1.min.css\");\n",
       "      Bokeh.embed.inject_css(\"https://cdn.pydata.org/bokeh/release/bokeh-widgets-0.11.1.min.css\");\n",
       "    }\n",
       "  ];\n",
       "\n",
       "  function run_inline_js() {\n",
       "    for (var i = 0; i < inline_js.length; i++) {\n",
       "      inline_js[i](window.Bokeh);\n",
       "    }\n",
       "  }\n",
       "\n",
       "  if (window._bokeh_is_loading === 0) {\n",
       "    console.log(\"Bokeh: BokehJS loaded, going straight to plotting\");\n",
       "    run_inline_js();\n",
       "  } else {\n",
       "    load_libs(js_urls, function() {\n",
       "      console.log(\"Bokeh: BokehJS plotting callback run at\", now());\n",
       "      run_inline_js();\n",
       "    });\n",
       "  }\n",
       "}(this));"
      ]
     },
     "metadata": {},
     "output_type": "display_data"
    }
   ],
   "source": [
    "from bokeh.charts import Bar, output_notebook, show, vplot, hplot, defaults\n",
    "from bokeh.sampledata.autompg import autompg as df\n",
    "\n",
    "output_notebook()"
   ]
  },
  {
   "cell_type": "code",
   "execution_count": 3,
   "metadata": {
    "collapsed": true
   },
   "outputs": [],
   "source": [
    "df['neg_mpg'] = 0 - df['mpg']\n",
    "defaults.width = 550\n",
    "defaults.height = 400"
   ]
  },
  {
   "cell_type": "code",
   "execution_count": 4,
   "metadata": {
    "collapsed": false
   },
   "outputs": [
    {
     "data": {
      "text/html": [
       "\n",
       "\n",
       "    <div class=\"plotdiv\" id=\"ae99ae69-2f5d-4c4e-9723-bf41aa8d6d2c\"></div>\n",
       "<script type=\"text/javascript\">\n",
       "  \n",
       "  (function(global) {\n",
       "    function now() {\n",
       "      return new Date();\n",
       "    }\n",
       "  \n",
       "    if (typeof (window._bokeh_onload_callbacks) === \"undefined\") {\n",
       "      window._bokeh_onload_callbacks = [];\n",
       "    }\n",
       "  \n",
       "    function run_callbacks() {\n",
       "      window._bokeh_onload_callbacks.forEach(function(callback) { callback() });\n",
       "      delete window._bokeh_onload_callbacks\n",
       "      console.info(\"Bokeh: all callbacks have finished\");\n",
       "    }\n",
       "  \n",
       "    function load_libs(js_urls, callback) {\n",
       "      window._bokeh_onload_callbacks.push(callback);\n",
       "      if (window._bokeh_is_loading > 0) {\n",
       "        console.log(\"Bokeh: BokehJS is being loaded, scheduling callback at\", now());\n",
       "        return null;\n",
       "      }\n",
       "      if (js_urls == null || js_urls.length === 0) {\n",
       "        run_callbacks();\n",
       "        return null;\n",
       "      }\n",
       "      console.log(\"Bokeh: BokehJS not loaded, scheduling load and callback at\", now());\n",
       "      window._bokeh_is_loading = js_urls.length;\n",
       "      for (var i = 0; i < js_urls.length; i++) {\n",
       "        var url = js_urls[i];\n",
       "        var s = document.createElement('script');\n",
       "        s.src = url;\n",
       "        s.async = false;\n",
       "        s.onreadystatechange = s.onload = function() {\n",
       "          window._bokeh_is_loading--;\n",
       "          if (window._bokeh_is_loading === 0) {\n",
       "            console.log(\"Bokeh: all BokehJS libraries loaded\");\n",
       "            run_callbacks()\n",
       "          }\n",
       "        };\n",
       "        s.onerror = function() {\n",
       "          console.warn(\"failed to load library \" + url);\n",
       "        };\n",
       "        console.log(\"Bokeh: injecting script tag for BokehJS library: \", url);\n",
       "        document.getElementsByTagName(\"head\")[0].appendChild(s);\n",
       "      }\n",
       "    };var element = document.getElementById(\"ae99ae69-2f5d-4c4e-9723-bf41aa8d6d2c\");\n",
       "    if (element == null) {\n",
       "      console.log(\"Bokeh: ERROR: autoload.js configured with elementid 'ae99ae69-2f5d-4c4e-9723-bf41aa8d6d2c' but no matching script tag was found. \")\n",
       "      return false;\n",
       "    }\n",
       "  \n",
       "    var js_urls = [];\n",
       "  \n",
       "    var inline_js = [\n",
       "      function(Bokeh) {\n",
       "        Bokeh.$(function() {\n",
       "            var docs_json = {\"9c141c97-fa0c-480c-9c9b-d3cad59fb22c\":{\"roots\":{\"references\":[{\"attributes\":{\"callback\":null,\"column_names\":[\"line_color\",\"line_alpha\",\"color\",\"fill_alpha\",\"height\",\"width\",\"y\",\"x\"],\"data\":{\"chart_index\":[{\"cyl\":4}],\"color\":[\"#f22c40\"],\"cyl\":[4],\"fill_alpha\":[0.8],\"height\":[199.0],\"line_alpha\":[1.0],\"line_color\":[\"white\"],\"width\":[0.8],\"x\":[\"4\"],\"y\":[99.5]}},\"id\":\"3bce67d4-f41b-4a8f-9c4a-ed7ad7f813a0\",\"type\":\"ColumnDataSource\"},{\"attributes\":{\"plot\":{\"id\":\"2e65e1ae-8ea4-43ae-bde1-5d9bc33de8d4\",\"subtype\":\"Chart\",\"type\":\"Plot\"}},\"id\":\"fc61cf56-a612-40fc-9fa5-c695b42a5185\",\"type\":\"ResetTool\"},{\"attributes\":{\"callback\":null,\"factors\":[\"3\",\"4\",\"5\",\"6\",\"8\"]},\"id\":\"7b1d6996-997f-40d3-85a0-ff11c3579b12\",\"type\":\"FactorRange\"},{\"attributes\":{\"fill_alpha\":{\"field\":\"fill_alpha\"},\"fill_color\":{\"field\":\"color\"},\"height\":{\"field\":\"height\",\"units\":\"data\"},\"line_color\":{\"field\":\"line_color\"},\"width\":{\"field\":\"width\",\"units\":\"data\"},\"x\":{\"field\":\"x\"},\"y\":{\"field\":\"y\"}},\"id\":\"ea2caf30-fcd5-43d1-9ebd-0c97ffdcbb9d\",\"type\":\"Rect\"},{\"attributes\":{\"data_source\":{\"id\":\"3bce67d4-f41b-4a8f-9c4a-ed7ad7f813a0\",\"type\":\"ColumnDataSource\"},\"glyph\":{\"id\":\"5bc020c8-81f7-4e95-b795-f4699b16033e\",\"type\":\"Rect\"},\"hover_glyph\":null,\"nonselection_glyph\":null,\"selection_glyph\":null},\"id\":\"784272cd-2b3f-4566-8c5b-8467df4c3ee3\",\"type\":\"GlyphRenderer\"},{\"attributes\":{\"callback\":null,\"end\":208.95},\"id\":\"96d74fc0-448d-47d8-97a6-493db042040a\",\"type\":\"Range1d\"},{\"attributes\":{\"dimension\":1,\"plot\":{\"id\":\"2e65e1ae-8ea4-43ae-bde1-5d9bc33de8d4\",\"subtype\":\"Chart\",\"type\":\"Plot\"},\"ticker\":{\"id\":\"a5d5400d-dd15-48af-b82d-c924ace9e881\",\"type\":\"BasicTicker\"}},\"id\":\"13fabb6d-9402-4765-9db2-365c40c8f571\",\"type\":\"Grid\"},{\"attributes\":{\"data_source\":{\"id\":\"51fe17b9-55fb-4ef4-9a44-613809c442c8\",\"type\":\"ColumnDataSource\"},\"glyph\":{\"id\":\"ea2caf30-fcd5-43d1-9ebd-0c97ffdcbb9d\",\"type\":\"Rect\"},\"hover_glyph\":null,\"nonselection_glyph\":null,\"selection_glyph\":null},\"id\":\"ef2fefc1-bd07-4baa-b0c2-7470150a50b0\",\"type\":\"GlyphRenderer\"},{\"attributes\":{\"plot\":{\"id\":\"2e65e1ae-8ea4-43ae-bde1-5d9bc33de8d4\",\"subtype\":\"Chart\",\"type\":\"Plot\"}},\"id\":\"be942b88-2d9a-4a54-ae83-5d5bb47df0f7\",\"type\":\"WheelZoomTool\"},{\"attributes\":{\"fill_alpha\":{\"field\":\"fill_alpha\"},\"fill_color\":{\"field\":\"color\"},\"height\":{\"field\":\"height\",\"units\":\"data\"},\"line_color\":{\"field\":\"line_color\"},\"width\":{\"field\":\"width\",\"units\":\"data\"},\"x\":{\"field\":\"x\"},\"y\":{\"field\":\"y\"}},\"id\":\"9462c6fb-3b7f-4ce9-985b-649caa944fca\",\"type\":\"Rect\"},{\"attributes\":{\"fill_alpha\":{\"field\":\"fill_alpha\"},\"fill_color\":{\"field\":\"color\"},\"height\":{\"field\":\"height\",\"units\":\"data\"},\"line_color\":{\"field\":\"line_color\"},\"width\":{\"field\":\"width\",\"units\":\"data\"},\"x\":{\"field\":\"x\"},\"y\":{\"field\":\"y\"}},\"id\":\"5bc020c8-81f7-4e95-b795-f4699b16033e\",\"type\":\"Rect\"},{\"attributes\":{},\"id\":\"d71a6031-ad10-467c-bd73-baadc8e4b519\",\"type\":\"CategoricalTickFormatter\"},{\"attributes\":{},\"id\":\"a5d5400d-dd15-48af-b82d-c924ace9e881\",\"type\":\"BasicTicker\"},{\"attributes\":{\"fill_alpha\":{\"field\":\"fill_alpha\"},\"fill_color\":{\"field\":\"color\"},\"height\":{\"field\":\"height\",\"units\":\"data\"},\"line_color\":{\"field\":\"line_color\"},\"width\":{\"field\":\"width\",\"units\":\"data\"},\"x\":{\"field\":\"x\"},\"y\":{\"field\":\"y\"}},\"id\":\"19b70c0a-92f1-418e-9d58-b9763a2d7790\",\"type\":\"Rect\"},{\"attributes\":{\"callback\":null,\"column_names\":[\"line_color\",\"line_alpha\",\"color\",\"fill_alpha\",\"height\",\"width\",\"y\",\"x\"],\"data\":{\"chart_index\":[{\"cyl\":5}],\"color\":[\"#f22c40\"],\"cyl\":[5],\"fill_alpha\":[0.8],\"height\":[3.0],\"line_alpha\":[1.0],\"line_color\":[\"white\"],\"width\":[0.8],\"x\":[\"5\"],\"y\":[1.5]}},\"id\":\"e48662d6-c18d-4a59-9366-fcfbf59ef6b8\",\"type\":\"ColumnDataSource\"},{\"attributes\":{},\"id\":\"d79c07fb-b288-47d0-822d-401a6d1472d0\",\"type\":\"CategoricalTicker\"},{\"attributes\":{\"fill_alpha\":{\"field\":\"fill_alpha\"},\"fill_color\":{\"field\":\"color\"},\"height\":{\"field\":\"height\",\"units\":\"data\"},\"line_color\":{\"field\":\"line_color\"},\"width\":{\"field\":\"width\",\"units\":\"data\"},\"x\":{\"field\":\"x\"},\"y\":{\"field\":\"y\"}},\"id\":\"1eb53071-6240-4108-8c64-46f955d49003\",\"type\":\"Rect\"},{\"attributes\":{\"plot\":{\"id\":\"2e65e1ae-8ea4-43ae-bde1-5d9bc33de8d4\",\"subtype\":\"Chart\",\"type\":\"Plot\"}},\"id\":\"20f00fc2-bf6c-4b0d-8768-9cab2f5398ad\",\"type\":\"HelpTool\"},{\"attributes\":{\"overlay\":{\"id\":\"73e99f32-a093-4073-beb7-83f932c4a0e7\",\"type\":\"BoxAnnotation\"},\"plot\":{\"id\":\"2e65e1ae-8ea4-43ae-bde1-5d9bc33de8d4\",\"subtype\":\"Chart\",\"type\":\"Plot\"}},\"id\":\"74e471bf-ed3d-4986-9506-618e6431665e\",\"type\":\"BoxZoomTool\"},{\"attributes\":{\"data_source\":{\"id\":\"34b2d691-86f7-4a90-b2d1-be193fb20512\",\"type\":\"ColumnDataSource\"},\"glyph\":{\"id\":\"19b70c0a-92f1-418e-9d58-b9763a2d7790\",\"type\":\"Rect\"},\"hover_glyph\":null,\"nonselection_glyph\":null,\"selection_glyph\":null},\"id\":\"4551ca98-2508-44bc-a87d-1a8e4b71360f\",\"type\":\"GlyphRenderer\"},{\"attributes\":{\"bottom_units\":\"screen\",\"fill_alpha\":{\"value\":0.5},\"fill_color\":{\"value\":\"lightgrey\"},\"left_units\":\"screen\",\"level\":\"overlay\",\"line_alpha\":{\"value\":1.0},\"line_color\":{\"value\":\"black\"},\"line_dash\":[4,4],\"line_width\":{\"value\":2},\"plot\":null,\"render_mode\":\"css\",\"right_units\":\"screen\",\"top_units\":\"screen\"},\"id\":\"73e99f32-a093-4073-beb7-83f932c4a0e7\",\"type\":\"BoxAnnotation\"},{\"attributes\":{\"callback\":null,\"column_names\":[\"line_color\",\"line_alpha\",\"color\",\"fill_alpha\",\"height\",\"width\",\"y\",\"x\"],\"data\":{\"chart_index\":[{\"cyl\":3}],\"color\":[\"#f22c40\"],\"cyl\":[3],\"fill_alpha\":[0.8],\"height\":[4.0],\"line_alpha\":[1.0],\"line_color\":[\"white\"],\"width\":[0.8],\"x\":[\"3\"],\"y\":[2.0]}},\"id\":\"34b2d691-86f7-4a90-b2d1-be193fb20512\",\"type\":\"ColumnDataSource\"},{\"attributes\":{\"callback\":null,\"column_names\":[\"line_color\",\"line_alpha\",\"color\",\"fill_alpha\",\"height\",\"width\",\"y\",\"x\"],\"data\":{\"chart_index\":[{\"cyl\":8}],\"color\":[\"#f22c40\"],\"cyl\":[8],\"fill_alpha\":[0.8],\"height\":[103.0],\"line_alpha\":[1.0],\"line_color\":[\"white\"],\"width\":[0.8],\"x\":[\"8\"],\"y\":[51.5]}},\"id\":\"b059a7e3-aa36-4cb1-add5-5faa670ca639\",\"type\":\"ColumnDataSource\"},{\"attributes\":{\"callback\":null,\"column_names\":[\"line_color\",\"line_alpha\",\"color\",\"fill_alpha\",\"height\",\"width\",\"y\",\"x\"],\"data\":{\"chart_index\":[{\"cyl\":6}],\"color\":[\"#f22c40\"],\"cyl\":[6],\"fill_alpha\":[0.8],\"height\":[83.0],\"line_alpha\":[1.0],\"line_color\":[\"white\"],\"width\":[0.8],\"x\":[\"6\"],\"y\":[41.5]}},\"id\":\"51fe17b9-55fb-4ef4-9a44-613809c442c8\",\"type\":\"ColumnDataSource\"},{\"attributes\":{\"below\":[{\"id\":\"f6ce1e57-6a79-405d-bdb4-662a75b827a0\",\"type\":\"CategoricalAxis\"}],\"left\":[{\"id\":\"9b537d91-1879-4b53-9791-5371c44e47df\",\"type\":\"LinearAxis\"}],\"legend\":null,\"plot_height\":400,\"plot_width\":550,\"renderers\":[{\"id\":\"73e99f32-a093-4073-beb7-83f932c4a0e7\",\"type\":\"BoxAnnotation\"},{\"id\":\"fe9095b6-81d3-4f53-a06e-ef0a5e527b44\",\"type\":\"GlyphRenderer\"},{\"id\":\"784272cd-2b3f-4566-8c5b-8467df4c3ee3\",\"type\":\"GlyphRenderer\"},{\"id\":\"ef2fefc1-bd07-4baa-b0c2-7470150a50b0\",\"type\":\"GlyphRenderer\"},{\"id\":\"4551ca98-2508-44bc-a87d-1a8e4b71360f\",\"type\":\"GlyphRenderer\"},{\"id\":\"466d449f-2079-48d6-b424-468d0fb3571d\",\"type\":\"GlyphRenderer\"},{\"id\":\"f6ce1e57-6a79-405d-bdb4-662a75b827a0\",\"type\":\"CategoricalAxis\"},{\"id\":\"9b537d91-1879-4b53-9791-5371c44e47df\",\"type\":\"LinearAxis\"},{\"id\":\"13fabb6d-9402-4765-9db2-365c40c8f571\",\"type\":\"Grid\"}],\"title\":\"label='cyl'\",\"title_text_font_size\":{\"value\":\"14pt\"},\"tool_events\":{\"id\":\"fd89b60e-6cd5-4cf1-8c6b-e58eb28b450b\",\"type\":\"ToolEvents\"},\"tools\":[{\"id\":\"eaaea249-e4e9-4d0b-a3dd-3c6c1c0b3934\",\"type\":\"PanTool\"},{\"id\":\"be942b88-2d9a-4a54-ae83-5d5bb47df0f7\",\"type\":\"WheelZoomTool\"},{\"id\":\"74e471bf-ed3d-4986-9506-618e6431665e\",\"type\":\"BoxZoomTool\"},{\"id\":\"0a87c902-6d76-4b6a-8f5c-5f123f7bb1ec\",\"type\":\"PreviewSaveTool\"},{\"id\":\"9018c63f-f850-4883-9c26-9b76773940a2\",\"type\":\"ResizeTool\"},{\"id\":\"fc61cf56-a612-40fc-9fa5-c695b42a5185\",\"type\":\"ResetTool\"},{\"id\":\"20f00fc2-bf6c-4b0d-8768-9cab2f5398ad\",\"type\":\"HelpTool\"}],\"x_mapper_type\":\"auto\",\"x_range\":{\"id\":\"7b1d6996-997f-40d3-85a0-ff11c3579b12\",\"type\":\"FactorRange\"},\"xgrid\":false,\"xscale\":\"auto\",\"y_mapper_type\":\"auto\",\"y_range\":{\"id\":\"96d74fc0-448d-47d8-97a6-493db042040a\",\"type\":\"Range1d\"},\"yscale\":\"auto\"},\"id\":\"2e65e1ae-8ea4-43ae-bde1-5d9bc33de8d4\",\"subtype\":\"Chart\",\"type\":\"Plot\"},{\"attributes\":{\"data_source\":{\"id\":\"b059a7e3-aa36-4cb1-add5-5faa670ca639\",\"type\":\"ColumnDataSource\"},\"glyph\":{\"id\":\"1eb53071-6240-4108-8c64-46f955d49003\",\"type\":\"Rect\"},\"hover_glyph\":null,\"nonselection_glyph\":null,\"selection_glyph\":null},\"id\":\"fe9095b6-81d3-4f53-a06e-ef0a5e527b44\",\"type\":\"GlyphRenderer\"},{\"attributes\":{\"plot\":{\"id\":\"2e65e1ae-8ea4-43ae-bde1-5d9bc33de8d4\",\"subtype\":\"Chart\",\"type\":\"Plot\"}},\"id\":\"9018c63f-f850-4883-9c26-9b76773940a2\",\"type\":\"ResizeTool\"},{\"attributes\":{\"plot\":{\"id\":\"2e65e1ae-8ea4-43ae-bde1-5d9bc33de8d4\",\"subtype\":\"Chart\",\"type\":\"Plot\"}},\"id\":\"eaaea249-e4e9-4d0b-a3dd-3c6c1c0b3934\",\"type\":\"PanTool\"},{\"attributes\":{\"axis_label\":\"Cyl\",\"formatter\":{\"id\":\"d71a6031-ad10-467c-bd73-baadc8e4b519\",\"type\":\"CategoricalTickFormatter\"},\"major_label_orientation\":0.7853981633974483,\"plot\":{\"id\":\"2e65e1ae-8ea4-43ae-bde1-5d9bc33de8d4\",\"subtype\":\"Chart\",\"type\":\"Plot\"},\"ticker\":{\"id\":\"d79c07fb-b288-47d0-822d-401a6d1472d0\",\"type\":\"CategoricalTicker\"}},\"id\":\"f6ce1e57-6a79-405d-bdb4-662a75b827a0\",\"type\":\"CategoricalAxis\"},{\"attributes\":{},\"id\":\"fd89b60e-6cd5-4cf1-8c6b-e58eb28b450b\",\"type\":\"ToolEvents\"},{\"attributes\":{},\"id\":\"9810273c-fe2e-4ca4-b690-5d6d7ee5b5f9\",\"type\":\"BasicTickFormatter\"},{\"attributes\":{\"axis_label\":\"Count( Cyl )\",\"formatter\":{\"id\":\"9810273c-fe2e-4ca4-b690-5d6d7ee5b5f9\",\"type\":\"BasicTickFormatter\"},\"plot\":{\"id\":\"2e65e1ae-8ea4-43ae-bde1-5d9bc33de8d4\",\"subtype\":\"Chart\",\"type\":\"Plot\"},\"ticker\":{\"id\":\"a5d5400d-dd15-48af-b82d-c924ace9e881\",\"type\":\"BasicTicker\"}},\"id\":\"9b537d91-1879-4b53-9791-5371c44e47df\",\"type\":\"LinearAxis\"},{\"attributes\":{\"plot\":{\"id\":\"2e65e1ae-8ea4-43ae-bde1-5d9bc33de8d4\",\"subtype\":\"Chart\",\"type\":\"Plot\"}},\"id\":\"0a87c902-6d76-4b6a-8f5c-5f123f7bb1ec\",\"type\":\"PreviewSaveTool\"},{\"attributes\":{\"data_source\":{\"id\":\"e48662d6-c18d-4a59-9366-fcfbf59ef6b8\",\"type\":\"ColumnDataSource\"},\"glyph\":{\"id\":\"9462c6fb-3b7f-4ce9-985b-649caa944fca\",\"type\":\"Rect\"},\"hover_glyph\":null,\"nonselection_glyph\":null,\"selection_glyph\":null},\"id\":\"466d449f-2079-48d6-b424-468d0fb3571d\",\"type\":\"GlyphRenderer\"}],\"root_ids\":[\"2e65e1ae-8ea4-43ae-bde1-5d9bc33de8d4\"]},\"title\":\"Bokeh Application\",\"version\":\"0.11.1\"}};\n",
       "            var render_items = [{\"docid\":\"9c141c97-fa0c-480c-9c9b-d3cad59fb22c\",\"elementid\":\"ae99ae69-2f5d-4c4e-9723-bf41aa8d6d2c\",\"modelid\":\"2e65e1ae-8ea4-43ae-bde1-5d9bc33de8d4\",\"notebook_comms_target\":\"14f0dcbc-6bd9-428f-b096-a5f1efaf2028\"}];\n",
       "            \n",
       "            Bokeh.embed.embed_items(docs_json, render_items);\n",
       "        });\n",
       "      },\n",
       "      function(Bokeh) {\n",
       "      }\n",
       "    ];\n",
       "  \n",
       "    function run_inline_js() {\n",
       "      for (var i = 0; i < inline_js.length; i++) {\n",
       "        inline_js[i](window.Bokeh);\n",
       "      }\n",
       "    }\n",
       "  \n",
       "    if (window._bokeh_is_loading === 0) {\n",
       "      console.log(\"Bokeh: BokehJS loaded, going straight to plotting\");\n",
       "      run_inline_js();\n",
       "    } else {\n",
       "      load_libs(js_urls, function() {\n",
       "        console.log(\"Bokeh: BokehJS plotting callback run at\", now());\n",
       "        run_inline_js();\n",
       "      });\n",
       "    }\n",
       "  }(this));\n",
       "</script>"
      ]
     },
     "metadata": {},
     "output_type": "display_data"
    },
    {
     "data": {
      "text/html": [
       "<p><code>&lt;Bokeh Notebook handle for <strong>In[4]</strong>&gt;</code></p>"
      ],
      "text/plain": [
       "<bokeh.io._CommsHandle at 0x7f944626fcd0>"
      ]
     },
     "execution_count": 4,
     "metadata": {},
     "output_type": "execute_result"
    }
   ],
   "source": [
    "bar_plot = Bar(df, label='cyl', title=\"label='cyl'\")\n",
    "show(bar_plot)"
   ]
  },
  {
   "cell_type": "code",
   "execution_count": null,
   "metadata": {
    "collapsed": true
   },
   "outputs": [],
   "source": []
  }
 ],
 "metadata": {
  "anaconda-cloud": {},
  "kernelspec": {
   "display_name": "Python [default]",
   "language": "python",
   "name": "Python [default]"
  },
  "language_info": {
   "codemirror_mode": {
    "name": "ipython",
    "version": 2
   },
   "file_extension": ".py",
   "mimetype": "text/x-python",
   "name": "python",
   "nbconvert_exporter": "python",
   "pygments_lexer": "ipython2",
   "version": "2.7.11"
  }
 },
 "nbformat": 4,
 "nbformat_minor": 0
}
